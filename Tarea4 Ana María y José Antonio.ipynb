{
 "cells": [
  {
   "cell_type": "markdown",
   "metadata": {},
   "source": [
    "<img style=\"float: left; margin: 30px 15px 15px 15px;\" src=\"https://pngimage.net/wp-content/uploads/2018/06/logo-iteso-png-5.png\" width=\"300\" height=\"500\" /> \n",
    "    \n",
    "    \n",
    "### <font color='navy'> Simulación de procesos financieros. \n",
    "\n",
    "**Nombres:** Ana María Aguilera Gómez y José Antonio Contreras Peña.\n",
    "\n",
    "**Fecha:** 21 de septiembre del 2021.\n",
    "\n",
    "**Expediente** : 720567 y 721860.\n",
    "**Profesor:** Oscar David Jaramillo Zuluaga.\n",
    "    \n",
    "**Link Github**: https://github.com/anamaria1404/SPF_Tareas3y4\n",
    "\n",
    "# Tarea 4: Clase 7"
   ]
  },
  {
   "cell_type": "markdown",
   "metadata": {},
   "source": [
    "### Ejercicio 1: \n",
    "Como ejemplo simple de una simulación de Monte Carlo, considere calcular la probabilidad de una suma particular del lanzamiento de tres dados (cada dado tiene valores del uno al seis). Además cada dado tiene las siguientes carácterísticas: el primer dado no está cargado (distribución uniforme todos son equiprobables); el segundo y tercer dado están cargados basados en una distribución binomial con parámetros (`n=5, p=0.5` y `n=5, p=0.2`). Calcule la probabilidad de que la suma resultante sea 7, 14 o 18. "
   ]
  },
  {
   "cell_type": "code",
   "execution_count": 2,
   "metadata": {},
   "outputs": [],
   "source": [
    "import numpy as np\n",
    "import matplotlib.pyplot as plt\n",
    "import pandas as pd\n",
    "import os\n",
    "import scipy.stats as st"
   ]
  },
  {
   "cell_type": "markdown",
   "metadata": {},
   "source": [
    "Código de solución estudiante 1"
   ]
  },
  {
   "cell_type": "code",
   "execution_count": 5,
   "metadata": {},
   "outputs": [
    {
     "name": "stdout",
     "output_type": "stream",
     "text": [
      "Probab. suma=7 : 15.68 %\n",
      "Probab. suma=14 : 10.055384615384616 %\n",
      "Probab. suma=18 : 0.08615384615384615 %\n"
     ]
    },
    {
     "data": {
      "image/png": "[encoded data removed]",
      "text/plain": [
       "<Figure size 432x288 with 1 Axes>"
      ]
     },
     "metadata": {
      "needs_background": "light"
     },
     "output_type": "display_data"
    }
   ],
   "source": [
    "# Código de solución estudiante 1\n",
    "N = 10**4\n",
    "r = pd.DataFrame(((np.random.randint(1,7)) + (st.binom(n=5, p=0.5).rvs()) + (st.binom(n=5, p=0.2).rvs())) for i in range(N))\n",
    "\n",
    "prob, s = np.histogram(r, bins=16, density=True)\n",
    "plt.bar(range(3,19), prob)\n",
    "\n",
    "print('Probab. suma=7 :', prob[4]*100, '%')\n",
    "print('Probab. suma=14 :', prob[11]*100, '%')\n",
    "print('Probab. suma=18 :', prob[15]*100, '%')"
   ]
  },
  {
   "cell_type": "markdown",
   "metadata": {},
   "source": [
    "Código de solución estudiante 2"
   ]
  },
  {
   "cell_type": "code",
   "execution_count": null,
   "metadata": {},
   "outputs": [],
   "source": [
    "# Código de solución estudiante 2\n",
    ".\n",
    ".\n",
    ".\n",
    ".\n"
   ]
  },
  {
   "cell_type": "markdown",
   "metadata": {},
   "source": [
    "### Ejercicio 2 Aplicación- Cafetería Central\n",
    "\n",
    "Premisas para la simulación:\n",
    "- Negocio de alimentos que vende bebidas y alimentos.\n",
    "- Negocio dentro del ITESO.\n",
    "- Negocio en cafetería central.\n",
    "- Tipo de clientes (hombres y mujeres).\n",
    "- Rentabilidad del 60%.\n",
    "\n",
    "### Objetivo\n",
    "Realizar una simulación estimado el tiempo medio que se tardaran los clientes en ser atendidos entre el horario de 6:30 a 1 pm. Además saber el consumo. \n",
    "**Analizar supuestos y limitantes**\n",
    "\n",
    "### Supuestos en simulación\n",
    "Clasificación de clientes: \n",
    "- Mujer  = 1 $\\longrightarrow$ aleatorio < 0.5\n",
    "- Hombre = 0 $\\longrightarrow$ aleatorio $\\geq$ 0.5.\n",
    "\n",
    "Condiciones iniciales:\n",
    "- Todas las distrubuciones de probabilidad se supondrán uniformes.\n",
    "- Tiempo de simulación: 6:30 am - 1:30pm $\\longrightarrow$ T = 7 horas = 25200 seg.\n",
    "- Tiempo de llegada hasta ser atendido: Min=5seg, Max=30seg.\n",
    "- Tiempo que tardan los clientes en ser atendidos:\n",
    "    - Mujer: Min = 1 min= 60seg, Max = 5 min = 300 seg\n",
    "    - Hombre: Min = 40 seg, Max = 2 min= 120 seg\n",
    "- Consumo según el tipo de cliente:\n",
    "    - Mujer: Min = 30 pesos, Max = 100 pesos\n",
    "    - Hombre: Min = 20 pesos, Max = 80 pesos\n",
    "\n",
    "Responder las siguientes preguntas basados en los datos del problema:\n",
    "1. ¿Cuáles fueron los gastos de los hombres y las mujeres en 5 días de trabajo?.\n",
    "2. ¿Cuál fue el consumo promedio de los hombres y mujeres?\n",
    "3. ¿Cuál fue el número de personas atendidas por día?\n",
    "4. ¿Cuál fue el tiempo de atención promedio?\n",
    "5. ¿Cuánto fue la ganancia promedio de la cafetería en 5 días de trabajo y su respectiva rentabilidad?"
   ]
  },
  {
   "cell_type": "code",
   "execution_count": 6,
   "metadata": {},
   "outputs": [],
   "source": [
    "################## Datos del problema\n",
    "d = 5 \n",
    "T = 25200 #tiempo total simulación\n",
    "T_at_min = 5; T_at_max = 30 #tiempo llegada hasta ser atendido\n",
    "T_mujer_min =60; T_mujer_max = 300 #tiempo en ser atendido\n",
    "T_hombre_min = 40; T_hombre_max = 120 #tiempo en ser atendido\n",
    "C_mujer_min = 30; C_mujer_max = 100 #consumo\n",
    "C_hombre_min = 20; C_hombre_max = 80 #consumo"
   ]
  },
  {
   "cell_type": "markdown",
   "metadata": {},
   "source": [
    "Código de solución estudiante 1"
   ]
  },
  {
   "cell_type": "code",
   "execution_count": 9,
   "metadata": {},
   "outputs": [
    {
     "data": {
      "text/plain": [
       "(4166, 13211, 192, 84, 4711)"
      ]
     },
     "execution_count": 9,
     "metadata": {},
     "output_type": "execute_result"
    }
   ],
   "source": [
    "# Código de solución estudiante 1\n",
    "def f(mi,ma):\n",
    "    return np.random.randint(mi, ma)\n",
    "\n",
    "dia = 0\n",
    "gtm = 0\n",
    "gth = 0\n",
    "at = 0\n",
    "ctm = 0\n",
    "cth = 0\n",
    "\n",
    "while dia <= d:\n",
    "    tiempo = 0\n",
    "    gm = 0\n",
    "    gh = 0\n",
    "    cantm = 0\n",
    "    canth = 0\n",
    "    atencion = 0\n",
    "    \n",
    "    while tiempo <= T:\n",
    "        if np.random.randint(0,2) == 0:\n",
    "            gm += f(C_mujer_min,C_mujer_max)\n",
    "            cantm += 1\n",
    "            atencion += f(T_at_min,T_at_max)\n",
    "            tiempo += atencion + f(T_mujer_min,T_mujer_max)        \n",
    "        elif np.random.randint(0,2) == 1:\n",
    "            gh += f(C_hombre_min,C_hombre_max)\n",
    "            canth += 1\n",
    "            atencion += f(T_at_min,T_at_max)\n",
    "            tiempo += atencion + f(T_hombre_min,T_hombre_max)               \n",
    "    gtm += gm\n",
    "    gth += gh\n",
    "    dia += 1\n",
    "    at += atencion\n",
    "    ctm += cantm\n",
    "    cth += canth\n",
    "\n",
    "gth, gtm, ctm, cth, at"
   ]
  },
  {
   "cell_type": "code",
   "execution_count": 10,
   "metadata": {},
   "outputs": [
    {
     "name": "stdout",
     "output_type": "stream",
     "text": [
      "Gastos en 5 días: $ 17377 ; Hombres: $ 4166 , Mujeres $ 13211\n",
      "Consumo promedio diario: $ 62.960144927536234 ; Hombres: $ 49.595238095238095 , Mujeres: $ 68.80729166666667\n",
      "Cantidad de personas atendidas por día: 55 en promedio\n",
      "Tiempo de atención promedio: 17.068840579710145 segundos\n",
      "Ganancia promedio en 5 días y rentabilidad: $ 17377 y $ 15853.199999999999\n"
     ]
    }
   ],
   "source": [
    "print('Gastos en 5 días: $', gth+gtm, '; Hombres: $',gth, ', Mujeres $',gtm)\n",
    "print('Consumo promedio diario: $',(gth+gtm)/(ctm+cth), '; Hombres: $',gth/cth, ', Mujeres: $',gtm/ctm)\n",
    "print('Cantidad de personas atendidas por día:',round((ctm+cth)/d), 'en promedio')\n",
    "print('Tiempo de atención promedio:',at/(ctm+cth), 'segundos')\n",
    "print('Ganancia promedio en 5 días y rentabilidad: $',gth+gtm, 'y $', (gtm+gtm)*0.6)"
   ]
  },
  {
   "cell_type": "markdown",
   "metadata": {},
   "source": [
    "Código de solución estudiante 2"
   ]
  },
  {
   "cell_type": "code",
   "execution_count": null,
   "metadata": {},
   "outputs": [],
   "source": [
    "# Código de solución estudiante 2\n",
    ".\n",
    ".\n",
    ".\n",
    ".\n"
   ]
  }
 ],
 "metadata": {
  "kernelspec": {
   "display_name": "Python 3",
   "language": "python",
   "name": "python3"
  },
  "language_info": {
   "codemirror_mode": {
    "name": "ipython",
    "version": 3
   },
   "file_extension": ".py",
   "mimetype": "text/x-python",
   "name": "python",
   "nbconvert_exporter": "python",
   "pygments_lexer": "ipython3",
   "version": "3.8.8"
  }
 },
 "nbformat": 4,
 "nbformat_minor": 2
}
